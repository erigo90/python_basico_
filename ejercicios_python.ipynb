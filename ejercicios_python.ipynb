{
 "cells": [
  {
   "cell_type": "markdown",
   "id": "f4d6288f",
   "metadata": {},
   "source": [
    "### Ejericicio 1"
   ]
  },
  {
   "cell_type": "code",
   "execution_count": 3,
   "id": "6f5bd56f",
   "metadata": {},
   "outputs": [
    {
     "name": "stdout",
     "output_type": "stream",
     "text": [
      "5\n",
      "hola\n"
     ]
    }
   ],
   "source": [
    "variable1=5\n",
    "print(variable1)\n",
    "variable2=\"hola\"\n",
    "print(variable2)"
   ]
  },
  {
   "cell_type": "markdown",
   "id": "c8f6ceb0",
   "metadata": {},
   "source": [
    "### Ejercicio 2"
   ]
  },
  {
   "cell_type": "code",
   "execution_count": null,
   "id": "fb8d27ca",
   "metadata": {},
   "outputs": [],
   "source": [
    "variable1=int(input(\"ecribe un numero:\"))\n",
    "print(variable1)\n",
    "variable2=int(input(\"ecribe un numero:\"))\n",
    "print(variable2*variable1)"
   ]
  },
  {
   "cell_type": "markdown",
   "id": "17a86f09",
   "metadata": {},
   "source": [
    "### Ejericicio 3"
   ]
  },
  {
   "cell_type": "code",
   "execution_count": 6,
   "id": "54df8a34",
   "metadata": {},
   "outputs": [
    {
     "name": "stdin",
     "output_type": "stream",
     "text": [
      "escribre tu nombre: Erick\n"
     ]
    },
    {
     "name": "stdout",
     "output_type": "stream",
     "text": [
      "hola Erick que tengas un exclente dia\n"
     ]
    }
   ],
   "source": [
    "nombre=input(\"escribre tu nombre:\")\n",
    "print(\"hola\",nombre,\"que tengas un exclente dia\")"
   ]
  },
  {
   "cell_type": "code",
   "execution_count": 16,
   "id": "b00a302c",
   "metadata": {},
   "outputs": [
    {
     "name": "stdin",
     "output_type": "stream",
     "text": [
      "ecribe un numero: 1\n",
      "ecribe un numero: 1\n",
      "ecribe un numero: 1\n"
     ]
    },
    {
     "name": "stdout",
     "output_type": "stream",
     "text": [
      "los numeros son iguales: True\n"
     ]
    }
   ],
   "source": [
    "variable1=int(input(\"ecribe un numero:\"))\n",
    "\n",
    "variable2=int(input(\"ecribe un numero:\"))\n",
    "\n",
    "variable3=int(input(\"ecribe un numero:\"))\n",
    "\n",
    "iguales=variable1==variable2==variable3\n",
    "\n",
    "print(\"los numeros son iguales:\", iguales)\n"
   ]
  },
  {
   "cell_type": "code",
   "execution_count": 17,
   "id": "0831fba1",
   "metadata": {},
   "outputs": [
    {
     "name": "stdin",
     "output_type": "stream",
     "text": [
      "ecribe un numero: 1\n",
      "ecribe un numero: 2\n",
      "ecribe un numero: 300\n"
     ]
    },
    {
     "name": "stdout",
     "output_type": "stream",
     "text": [
      "uno de los numero es mayor que cien: True\n"
     ]
    }
   ],
   "source": [
    "variable1=int(input(\"ecribe un numero:\"))\n",
    "\n",
    "variable2=int(input(\"ecribe un numero:\"))\n",
    "\n",
    "variable3=int(input(\"ecribe un numero:\"))\n",
    "\n",
    "mayorquecien=(variable1>100)or(variable2>=100)or(variable3>=100)\n",
    "\n",
    "print(\"uno de los numero es mayor que cien:\", mayorquecien)"
   ]
  },
  {
   "cell_type": "markdown",
   "id": "98076a2b",
   "metadata": {},
   "source": [
    "### 1. Comienzo a programar"
   ]
  },
  {
   "cell_type": "code",
   "execution_count": 18,
   "id": "25cf39e0",
   "metadata": {},
   "outputs": [],
   "source": [
    "valor1=5\n",
    "valor2=\"comienzo a programar\"\n"
   ]
  },
  {
   "cell_type": "markdown",
   "id": "be4b18dd",
   "metadata": {},
   "source": [
    "### 2. Buenos dias"
   ]
  },
  {
   "cell_type": "code",
   "execution_count": 20,
   "id": "b9b68c13",
   "metadata": {},
   "outputs": [
    {
     "name": "stdin",
     "output_type": "stream",
     "text": [
      "digite el nombre del usuraio:  erick\n"
     ]
    },
    {
     "name": "stdout",
     "output_type": "stream",
     "text": [
      "buenos dias erick\n"
     ]
    }
   ],
   "source": [
    "a=input(\"digite el nombre del usuraio: \")\n",
    "print(\"buenos dias\",a )"
   ]
  },
  {
   "cell_type": "markdown",
   "id": "d9d7e865",
   "metadata": {},
   "source": [
    "### 3.Numero positivo"
   ]
  },
  {
   "cell_type": "code",
   "execution_count": 26,
   "id": "d6d7e435",
   "metadata": {},
   "outputs": [
    {
     "name": "stdin",
     "output_type": "stream",
     "text": [
      "digite un numero:  -2\n"
     ]
    },
    {
     "name": "stdout",
     "output_type": "stream",
     "text": [
      "el numero es negativo\n"
     ]
    }
   ],
   "source": [
    "num=int(input(\"digite un numero: \"))\n",
    "if num>=0:\n",
    "    print(\"el numero es positivo\")\n",
    "else:\n",
    "    print( \"el numero es negativo\")\n",
    "    \n"
   ]
  },
  {
   "cell_type": "markdown",
   "id": "8ce07b64",
   "metadata": {},
   "source": [
    "### 4. Muestra el mayor"
   ]
  },
  {
   "cell_type": "code",
   "execution_count": 42,
   "id": "e932b671",
   "metadata": {},
   "outputs": [
    {
     "name": "stdin",
     "output_type": "stream",
     "text": [
      "ecribe un numero: 1\n",
      "ecribe un numero: 5\n",
      "ecribe un numero: 5\n"
     ]
    },
    {
     "name": "stdout",
     "output_type": "stream",
     "text": [
      "5\n"
     ]
    }
   ],
   "source": [
    "variable1=int(input(\"ecribe un numero:\"))\n",
    "\n",
    "variable2=int(input(\"ecribe un numero:\"))\n",
    "\n",
    "variable3=int(input(\"ecribe un numero:\"))\n",
    "\n",
    "numeros=[variable1,variable2,variable3]\n",
    "a=0\n",
    "if variable1> variable2:\n",
    "    if variable1>variable3:\n",
    "        print(variable1)\n",
    "    else:\n",
    "        print(variable3)\n",
    "else:\n",
    "    if variable2 > variable3:\n",
    "        print(variable2)\n",
    "    else:\n",
    "        print(variable3)\n",
    "\n",
    "        \n",
    "   "
   ]
  },
  {
   "cell_type": "code",
   "execution_count": 43,
   "id": "dea6b264",
   "metadata": {},
   "outputs": [
    {
     "ename": "SyntaxError",
     "evalue": "invalid syntax (Temp/ipykernel_3164/2923125808.py, line 12)",
     "output_type": "error",
     "traceback": [
      "\u001b[1;36m  File \u001b[1;32m\"C:\\Users\\erico\\AppData\\Local\\Temp/ipykernel_3164/2923125808.py\"\u001b[1;36m, line \u001b[1;32m12\u001b[0m\n\u001b[1;33m    else:\u001b[0m\n\u001b[1;37m    ^\u001b[0m\n\u001b[1;31mSyntaxError\u001b[0m\u001b[1;31m:\u001b[0m invalid syntax\n"
     ]
    }
   ],
   "source": [
    "variable1=int(input(\"ecribe un numero:\"))\n",
    "\n",
    "variable2=int(input(\"ecribe un numero:\"))\n",
    "\n",
    "variable3=int(input(\"ecribe un numero:\"))\n",
    "\n",
    "numeros=[variable1,variable2,variable3]\n",
    "a=0\n",
    "if variable1> variable2:\n",
    "    if variable1>variable3:\n",
    "        print(\"el numero mayor es:\", str(variable1)\n",
    "    else:\n",
    "        print(\"el numero mayor es:\", str(variable3))\n",
    "else:\n",
    "    if variable2 > variable3:\n",
    "        print(\"el numero mayor es:\", str(variable2))\n",
    "    else:\n",
    "         print(\"el numero mayor es:\", str(variable3))\n"
   ]
  },
  {
   "cell_type": "markdown",
   "id": "84c39a57",
   "metadata": {},
   "source": [
    "### 5.numero entre 1000 y 1500"
   ]
  },
  {
   "cell_type": "code",
   "execution_count": 44,
   "id": "c534d207",
   "metadata": {},
   "outputs": [
    {
     "name": "stdin",
     "output_type": "stream",
     "text": [
      "escribe un numero: 5\n",
      "escribe un numero: 4\n",
      "escribe un numero: 1300\n"
     ]
    }
   ],
   "source": [
    "num=int(input(\"escribe un numero:\"))\n",
    "\n",
    "\n",
    "while 1000>num or num> 1500 :\n",
    "    num=int(input(\"escribe un numero:\")) \n",
    " \n",
    "\n",
    "\n"
   ]
  },
  {
   "cell_type": "markdown",
   "id": "f99fee06",
   "metadata": {},
   "source": [
    "### 6. Tabla de multiplicar de un numero"
   ]
  },
  {
   "cell_type": "code",
   "execution_count": 82,
   "id": "56f4a1b7",
   "metadata": {},
   "outputs": [
    {
     "name": "stdin",
     "output_type": "stream",
     "text": [
      "escribe un numero: 2\n"
     ]
    },
    {
     "name": "stdout",
     "output_type": "stream",
     "text": [
      "2\n",
      "2\n",
      "4\n",
      "12\n",
      "48\n",
      "240\n",
      "1440\n",
      "10080\n",
      "80640\n",
      "725760\n"
     ]
    }
   ],
   "source": [
    "num1=int(input(\"escribe un numero:\"))\n",
    "\n",
    "contador = 1\n",
    "while contador<11:\n",
    "    print(num1)\n",
    "    num1=num1*contador\n",
    "    contador=contador+1\n",
    "\n"
   ]
  },
  {
   "cell_type": "markdown",
   "id": "efad2ee8",
   "metadata": {},
   "source": [
    "### 7 leer dos numeros por teclado y mostrar el menu:\n",
    "1. sumar \n",
    "2. restar\n",
    "3. multiplicar\n",
    "4. dividir"
   ]
  },
  {
   "cell_type": "code",
   "execution_count": 13,
   "id": "62d01da5",
   "metadata": {},
   "outputs": [
    {
     "name": "stdin",
     "output_type": "stream",
     "text": [
      "escriba un numero:  1\n",
      "escriba un segundo numero:  5\n"
     ]
    },
    {
     "name": "stdout",
     "output_type": "stream",
     "text": [
      "1. sumar \n",
      " 2. restar \n",
      " 3. multiplicar \n",
      " 4. dividir\n"
     ]
    },
    {
     "name": "stdin",
     "output_type": "stream",
     "text": [
      "seleccione una opcion entre 1 y 4: 2\n"
     ]
    },
    {
     "name": "stdout",
     "output_type": "stream",
     "text": [
      "el resultado es -4\n",
      "la opcion seleccionada no es valiva, empieza de nuevo\n"
     ]
    }
   ],
   "source": [
    "n1=int(input(\"escriba un numero: \"))\n",
    "n2=int(input(\"escriba un segundo numero: \"))\n",
    "\n",
    "print(\"1. sumar \\n 2. restar \\n 3. multiplicar \\n 4. dividir\")\n",
    "op1=input(\"seleccione una opcion entre 1 y 4:\")\n",
    "if op1==\"1\":\n",
    "        resultado=(n1+n2)\n",
    "        print( \"el resultado es \"+str(resultado))\n",
    "if op1==\"2\":\n",
    "        resultado=(n1-n2)\n",
    "        print( \"el resultado es \"+str(resultado))\n",
    "if op1==\"3\":\n",
    "        resultado=(n1*n2)\n",
    "        print( \"el resultado es \"+str(resultado))\n",
    "if op1==\"4\":\n",
    "        resultado=(n1/n2)\n",
    "        print( \"el resultado es \"+str(resultado))\n",
    "else:\n",
    "    print(\"la opcion seleccionada no es valiva, empieza de nuevo\")"
   ]
  },
  {
   "cell_type": "markdown",
   "id": "4fff9b8d",
   "metadata": {},
   "source": []
  },
  {
   "cell_type": "markdown",
   "id": "d9bba4af",
   "metadata": {},
   "source": [
    "### 8. Notas \n",
    "Dada una nota numérica sin decimales entre 1 y 10 introducida por teclado mostrar \n",
    "un mensaje de texto indicando la nota según este baremo:\n",
    "1-4 Suspenso,\n",
    "5-6 Bien,\n",
    "7-8 Notable,\n",
    "9-10 Sobresalient"
   ]
  },
  {
   "cell_type": "code",
   "execution_count": 44,
   "id": "95bfba4f",
   "metadata": {},
   "outputs": [
    {
     "name": "stdin",
     "output_type": "stream",
     "text": [
      "escriba la nota del estudiante: 9\n"
     ]
    },
    {
     "name": "stdout",
     "output_type": "stream",
     "text": [
      "sobresaliente\n"
     ]
    }
   ],
   "source": [
    "nota=int(input(\"escriba la nota del estudiante:\" ))\n",
    "\n",
    "if 0<nota<5:\n",
    "    print(\"suspenso\")\n",
    "if 4<nota<6:\n",
    "    print(\"Bien\")\n",
    "if 6<nota<9:\n",
    "    print(\"Notable\")\n",
    "if 8<nota<11:\n",
    "    print(\"sobresaliente\")"
   ]
  },
  {
   "cell_type": "markdown",
   "id": "e58b06df",
   "metadata": {},
   "source": [
    "### 9 bucle infinito"
   ]
  },
  {
   "cell_type": "code",
   "execution_count": 1,
   "id": "e1c7957f",
   "metadata": {},
   "outputs": [
    {
     "ename": "SyntaxError",
     "evalue": "invalid syntax (Temp/ipykernel_4320/1756687527.py, line 1)",
     "output_type": "error",
     "traceback": [
      "\u001b[1;36m  File \u001b[1;32m\"C:\\Users\\erico\\AppData\\Local\\Temp/ipykernel_4320/1756687527.py\"\u001b[1;36m, line \u001b[1;32m1\u001b[0m\n\u001b[1;33m    op1=\u001b[0m\n\u001b[1;37m        ^\u001b[0m\n\u001b[1;31mSyntaxError\u001b[0m\u001b[1;31m:\u001b[0m invalid syntax\n"
     ]
    }
   ],
   "source": [
    "\n",
    "op1=1\n",
    "while op1==1:\n",
    "    print( \"error\")\n",
    "    "
   ]
  },
  {
   "cell_type": "markdown",
   "id": "bbf4c38d",
   "metadata": {},
   "source": [
    "ejercicio10 \n",
    "\n",
    ". Queremos hacer un juego para 2 jugadores: el primero introduce un número y el \n",
    "segundo debe adivinarlo. El número a adivinar debe estar entre 1 y 1000. Se permite \n",
    "solo 10 intentos para intentar adivinarlo y si no lo acierta el programa le informara \n",
    "sobre si el numero buscado es menor o mayor"
   ]
  },
  {
   "cell_type": "markdown",
   "id": "7714b272",
   "metadata": {},
   "source": [
    "### 10.Queremos hacer un juego para 2 jugadores: el primero introduce un número y el segundo debe adivinarlo. El número a adivinar debe estar entre 1 y 1000. Se permite solo 10 intentos para intentar adivinarlo y si no lo acierta el programa le informara sobre si el numero buscado es menor o mayor"
   ]
  },
  {
   "cell_type": "code",
   "execution_count": 30,
   "id": "bd29c2d3-cfda-4f75-9b9d-f5e5d49d9336",
   "metadata": {},
   "outputs": [
    {
     "name": "stdin",
     "output_type": "stream",
     "text": [
      "escriba un numero entre 1 y 1000: 10\n",
      "el numero es: 1\n"
     ]
    },
    {
     "name": "stdout",
     "output_type": "stream",
     "text": [
      "el numero que buscas es mayor que 1\n",
      "sigue intentado, te quedan 9 intentos para adivinar\n"
     ]
    },
    {
     "name": "stdin",
     "output_type": "stream",
     "text": [
      "el numero es: 2\n"
     ]
    },
    {
     "name": "stdout",
     "output_type": "stream",
     "text": [
      "el numero que buscas es mayor que 2\n",
      "sigue intentado, te quedan 8 intentos para adivinar\n"
     ]
    },
    {
     "name": "stdin",
     "output_type": "stream",
     "text": [
      "el numero es: 3\n"
     ]
    },
    {
     "name": "stdout",
     "output_type": "stream",
     "text": [
      "el numero que buscas es mayor que 3\n",
      "sigue intentado, te quedan 7 intentos para adivinar\n"
     ]
    },
    {
     "name": "stdin",
     "output_type": "stream",
     "text": [
      "el numero es: 2\n"
     ]
    },
    {
     "name": "stdout",
     "output_type": "stream",
     "text": [
      "el numero que buscas es mayor que 2\n",
      "sigue intentado, te quedan 6 intentos para adivinar\n"
     ]
    },
    {
     "name": "stdin",
     "output_type": "stream",
     "text": [
      "el numero es: 4\n"
     ]
    },
    {
     "name": "stdout",
     "output_type": "stream",
     "text": [
      "el numero que buscas es mayor que 4\n",
      "sigue intentado, te quedan 5 intentos para adivinar\n"
     ]
    },
    {
     "name": "stdin",
     "output_type": "stream",
     "text": [
      "el numero es: 1\n"
     ]
    },
    {
     "name": "stdout",
     "output_type": "stream",
     "text": [
      "el numero que buscas es mayor que 1\n",
      "sigue intentado, te quedan 4 intentos para adivinar\n"
     ]
    },
    {
     "name": "stdin",
     "output_type": "stream",
     "text": [
      "el numero es: 1\n"
     ]
    },
    {
     "name": "stdout",
     "output_type": "stream",
     "text": [
      "el numero que buscas es mayor que 1\n",
      "sigue intentado, te quedan 3 intentos para adivinar\n"
     ]
    },
    {
     "name": "stdin",
     "output_type": "stream",
     "text": [
      "el numero es: 2\n"
     ]
    },
    {
     "name": "stdout",
     "output_type": "stream",
     "text": [
      "el numero que buscas es mayor que 2\n",
      "sigue intentado, te quedan 2 intentos para adivinar\n"
     ]
    },
    {
     "name": "stdin",
     "output_type": "stream",
     "text": [
      "el numero es: 3\n"
     ]
    },
    {
     "name": "stdout",
     "output_type": "stream",
     "text": [
      "el numero que buscas es mayor que 3\n",
      "sigue intentado, te quedan 1 intentos para adivinar\n"
     ]
    },
    {
     "name": "stdin",
     "output_type": "stream",
     "text": [
      "el numero es: 2\n"
     ]
    },
    {
     "name": "stdout",
     "output_type": "stream",
     "text": [
      "perdiste\n"
     ]
    }
   ],
   "source": [
    "numint=int(input(\"escriba un numero entre 1 y 1000:\"))\n",
    "#while numint!=int:\n",
    "   # print(\"opcion no validad\")\n",
    "   # numint=int(input(\"escriba un numero entre 1 y 1000:\"))\n",
    "if numint<1 or numint>1000:\n",
    "    while numint<1 or numint>1000:\n",
    "        print(\"opcion no valida\")\n",
    "        numint=int(input(\"escriba un numero entre 1 y 1000:\"))\n",
    "\n",
    "a= int(input(\"el numero es:\"))\n",
    "if a <1 or a >1000:\n",
    "    while a<1 or a>1000:\n",
    "        print(\"opcion no validad\")\n",
    "        a=int(input(\"escriba un numero entre 1 y 1000:\"))\n",
    "\n",
    "if a==numint:\n",
    "    print(\"Haz adivinado\")\n",
    "i=1\n",
    "if a!=numint:\n",
    "    while i<10:\n",
    "        if a <1 or a >1000 or a!=int:\n",
    "            while a<1 or a>1000:\n",
    "                print(\"opcion no validad\")\n",
    "                a=int(input(\"escriba un numero entre 1 y 1000:\"))\n",
    "        \n",
    "        if a<numint:\n",
    "            print(\"el numero que buscas es mayor que\"+\" \"+ str(a))\n",
    "            print(\"sigue intentado, te quedan\"+\" \"+str(10-i)+\" \"+\"intentos para adivinar\")\n",
    "            a= int(input(\"el numero es:\"))\n",
    "        if a>numint:\n",
    "            print(\"el numero es menor que\"+\" \"  + str(a))\n",
    "            print(\"sigue intentado tienes, te quedan\"+\" \"+str(10-i)+\" \"+\"intentos para adivinar\")\n",
    "            a=int(input(\"el numero adivinar es:\"))\n",
    "        if a== numint:\n",
    "            print(\"Haz adivinado el numero\")\n",
    "            i=9\n",
    "        i+=1\n",
    "if a!=numint and i==10:\n",
    "    print(\"perdiste\")\n",
    "\n"
   ]
  },
  {
   "cell_type": "code",
   "execution_count": 27,
   "id": "22ee8b78",
   "metadata": {},
   "outputs": [
    {
     "data": {
      "text/plain": [
       "9"
      ]
     },
     "execution_count": 27,
     "metadata": {},
     "output_type": "execute_result"
    }
   ],
   "source": [
    "\n"
   ]
  },
  {
   "cell_type": "markdown",
   "id": "74851b33",
   "metadata": {},
   "source": [
    "### EJERCICIOS ADICIONALES"
   ]
  },
  {
   "cell_type": "code",
   "execution_count": 15,
   "id": "ccd15cac",
   "metadata": {},
   "outputs": [
    {
     "name": "stdin",
     "output_type": "stream",
     "text": [
      "introduce el año actual: 2023\n",
      "introduce el año de nacimiento: 2000\n"
     ]
    },
    {
     "name": "stdout",
     "output_type": "stream",
     "text": [
      "tu edad es 23\n"
     ]
    }
   ],
   "source": [
    "año_actual= int(input(\"introduce el año actual:\"))\n",
    "año_de_nacimiento= int(input(\"introduce el año de nacimiento:\"))\n",
    "edad=año_actual-año_de_nacimiento\n",
    "print(\"tu edad es\"+\" \"+str(edad))\n"
   ]
  },
  {
   "cell_type": "code",
   "execution_count": 11,
   "id": "d449743e",
   "metadata": {},
   "outputs": [],
   "source": [
    "edad=año_actual-año_de_nacimiento"
   ]
  },
  {
   "cell_type": "code",
   "execution_count": 12,
   "id": "31ba5ae4",
   "metadata": {},
   "outputs": [
    {
     "data": {
      "text/plain": [
       "3"
      ]
     },
     "execution_count": 12,
     "metadata": {},
     "output_type": "execute_result"
    }
   ],
   "source": [
    "edad"
   ]
  },
  {
   "cell_type": "markdown",
   "id": "49442560",
   "metadata": {},
   "source": [
    "### ejercicio 3 \n",
    "\n",
    "Introduce un año y di si es un año bisiesto. “Matemáticamente podemos saber si un año es\n",
    "bisiesto si este es múltiplo de 4. Si además es múltiplo de 100 no será bisiesto (ten en\n",
    "cuenta que 100 es múltiplo de 4 y por tanto cualquier número que sea múltiplo de 100\n",
    "también es múltiplo de 4) a no ser que sea múltiplo de 400, que sí será bisiesto\n"
   ]
  },
  {
   "cell_type": "code",
   "execution_count": 115,
   "id": "94859685",
   "metadata": {},
   "outputs": [
    {
     "name": "stdin",
     "output_type": "stream",
     "text": [
      "escribe un numero en -10 y -5 -5\n"
     ]
    },
    {
     "name": "stdout",
     "output_type": "stream",
     "text": [
      "5\n"
     ]
    }
   ],
   "source": [
    "numpos=int(input(\"escribe un numero en -10 y -5\"))\n",
    "numpos2=numpos*-1\n",
    "print(numpos2)"
   ]
  },
  {
   "cell_type": "code",
   "execution_count": null,
   "id": "7b4cc004",
   "metadata": {},
   "outputs": [],
   "source": []
  },
  {
   "cell_type": "markdown",
   "id": "d169e2fd",
   "metadata": {},
   "source": [
    "### ejercicio 4\n",
    "\n",
    "Introduce un año y di si es un año bisiesto. “Matemáticamente podemos saber si un año es\n",
    "bisiesto si este es múltiplo de 4. Si además es múltiplo de 100 no será bisiesto (ten en\n",
    "cuenta que 100 es múltiplo de 4 y por tanto cualquier número que sea múltiplo de 100\n",
    "también es múltiplo de 4) a no ser que sea múltiplo de 400, que sí será bisiesto\n"
   ]
  },
  {
   "cell_type": "code",
   "execution_count": 16,
   "id": "923077f6",
   "metadata": {},
   "outputs": [
    {
     "name": "stdin",
     "output_type": "stream",
     "text": [
      "escribe un año:  1704\n"
     ]
    },
    {
     "name": "stdout",
     "output_type": "stream",
     "text": [
      "año bisiesto\n"
     ]
    }
   ],
   "source": [
    "año=int(input(\"escribe un año: \"))\n",
    "multiplo4= año%4\n",
    "multiplo100=año%100\n",
    "multiplo400=año%400\n",
    "if multiplo4 ==0 :\n",
    "    if  multiplo100==0 and multiplo400!=0:\n",
    "        print(\"año no bisiesto\")\n",
    "    else: \n",
    "        print(\"año bisiesto\")\n",
    "else:\n",
    "    print(\"año no bisiesto\")\n",
    "    "
   ]
  },
  {
   "cell_type": "markdown",
   "id": "c85999d6",
   "metadata": {},
   "source": [
    "### ejercicio extra WHILE"
   ]
  },
  {
   "cell_type": "code",
   "execution_count": 23,
   "id": "1d7a24cd",
   "metadata": {},
   "outputs": [
    {
     "name": "stdin",
     "output_type": "stream",
     "text": [
      "escribe un entre 10 y 100:  1\n"
     ]
    },
    {
     "name": "stdout",
     "output_type": "stream",
     "text": [
      "0\n"
     ]
    }
   ],
   "source": [
    "numdes=int(input(\"escribe un entre 10 y 100: \"))\n",
    "i=0\n",
    "while numdes!=0:\n",
    "    numdes=numdes-1\n",
    "    print(numdes)\n",
    "\n",
    "\n",
    "  "
   ]
  },
  {
   "cell_type": "markdown",
   "id": "1d1916b2",
   "metadata": {},
   "source": [
    "### Eejericcio 5\n",
    "\n",
    "pide un numero y muestar un treianghulo rectangulo\n",
    "    "
   ]
  },
  {
   "cell_type": "code",
   "execution_count": 34,
   "id": "8fc18f5f",
   "metadata": {},
   "outputs": [
    {
     "name": "stdin",
     "output_type": "stream",
     "text": [
      "escribe un numero: 5\n"
     ]
    },
    {
     "name": "stdout",
     "output_type": "stream",
     "text": [
      "#\n",
      "##\n",
      "###\n",
      "####\n",
      "#####\n"
     ]
    }
   ],
   "source": [
    "numero5=int(input(\"escribe un numero:\"))\n",
    "i=0\n",
    "n=\"#\"\n",
    "while i!=numero5:\n",
    "    i=i+1\n",
    "    a=n*i\n",
    "    print(a)\n"
   ]
  },
  {
   "cell_type": "markdown",
   "id": "1fb13e2b",
   "metadata": {},
   "source": [
    "### Ejercicio 6\n",
    "Introduce un numero y di si es primo "
   ]
  },
  {
   "cell_type": "code",
   "execution_count": 116,
   "id": "0a12c1cc",
   "metadata": {},
   "outputs": [
    {
     "name": "stdin",
     "output_type": "stream",
     "text": [
      "escribe un numero: 5\n"
     ]
    },
    {
     "name": "stdout",
     "output_type": "stream",
     "text": [
      "numero es primo\n"
     ]
    }
   ],
   "source": [
    "primo=int(input( \"escribe un numero:\"))\n",
    "cont=1\n",
    "a=primo-1\n",
    "bprimo=True\n",
    "if primo==1:\n",
    "    print(\"numero no primo\")\n",
    "else:\n",
    "    if 0<cont<a:\n",
    "        while cont!=a and bprimo==True:\n",
    "            cont=cont+1\n",
    "            if primo%cont==0:\n",
    "                print(\"numero no es primo\")\n",
    "                bprimo=False\n",
    "            elif cont==primo-1 and bprimo==True:\n",
    "                print(\"numero es primo\")        \n"
   ]
  },
  {
   "cell_type": "code",
   "execution_count": null,
   "id": "21fa2f7a",
   "metadata": {},
   "outputs": [],
   "source": [
    "texto=\"hola que tal\"\n",
    "letrab=input(\"Digiete la letra desea buscar:\")\n",
    "contador=0\n",
    "for letra in texto: \n",
    "    if (letra==letrab):\n",
    "        contador=contador+1\n",
    "print(\"la letra\"+\" \"+letrab+\" \"+\"aparece :\"+str(contador)+\" \"+\"veces en la la frase\")\n"
   ]
  },
  {
   "cell_type": "code",
   "execution_count": 54,
   "id": "f48bd5d0",
   "metadata": {},
   "outputs": [
    {
     "data": {
      "text/plain": [
       "0.5"
      ]
     },
     "execution_count": 54,
     "metadata": {},
     "output_type": "execute_result"
    }
   ],
   "source": []
  },
  {
   "cell_type": "code",
   "execution_count": 2,
   "id": "c2630a19",
   "metadata": {},
   "outputs": [
    {
     "data": {
      "text/plain": [
       "5"
      ]
     },
     "execution_count": 2,
     "metadata": {},
     "output_type": "execute_result"
    }
   ],
   "source": [
    "5"
   ]
  },
  {
   "cell_type": "code",
   "execution_count": null,
   "id": "c777546a-d3c1-443c-b058-9e0ed8fd9d69",
   "metadata": {},
   "outputs": [],
   "source": []
  }
 ],
 "metadata": {
  "kernelspec": {
   "display_name": "Python 3 (ipykernel)",
   "language": "python",
   "name": "python3"
  },
  "language_info": {
   "codemirror_mode": {
    "name": "ipython",
    "version": 3
   },
   "file_extension": ".py",
   "mimetype": "text/x-python",
   "name": "python",
   "nbconvert_exporter": "python",
   "pygments_lexer": "ipython3",
   "version": "3.11.5"
  }
 },
 "nbformat": 4,
 "nbformat_minor": 5
}
