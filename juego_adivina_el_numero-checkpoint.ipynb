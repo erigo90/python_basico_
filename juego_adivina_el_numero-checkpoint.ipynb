{
 "cells": [
  {
   "cell_type": "code",
   "execution_count": 13,
   "id": "7337d51e-0bc5-4af5-b62b-adb8360a6775",
   "metadata": {},
   "outputs": [
    {
     "data": {
      "text/html": [
       "<h4>¡ADIVINA EL NUMERO¡</h4>"
      ],
      "text/plain": [
       "<IPython.core.display.HTML object>"
      ]
     },
     "metadata": {},
     "output_type": "display_data"
    },
    {
     "name": "stdout",
     "output_type": "stream",
     "text": [
      "\n",
      "Adivine el numero en menos intentos gana mas puntos\n",
      "\n",
      "MENU: \n",
      "selecciona una de las siguientes opciones:\n",
      "\n",
      "1. Partida modo solitario\n",
      "2. Partida 2 Jugadores\n",
      "3. Estadística\n",
      "4. Salir\n"
     ]
    },
    {
     "name": "stdin",
     "output_type": "stream",
     "text": [
      "\n",
      "selecciona una opcion del 1 al 4: 1\n"
     ]
    },
    {
     "name": "stdout",
     "output_type": "stream",
     "text": [
      "\n",
      "Haz seleccionado modo solitario\n",
      "\n",
      "ACONTINUACION DEBES SELECCIONAR LA DIFICULTAD DEL JUEGO ESCRIBE UN OPCION ENTRE 1 Y 3\n",
      "\n",
      "1. Fácil (20 intentos)\n",
      "2. Medio (12 intentos)\n",
      "3. Difícil (5 intentos)\n"
     ]
    },
    {
     "name": "stdin",
     "output_type": "stream",
     "text": [
      "\n",
      "seleccione una dificultad 1 y 3: 1\n"
     ]
    },
    {
     "name": "stdout",
     "output_type": "stream",
     "text": [
      "\n",
      "Haz seleccionado nivel de dificultadad: Fácil, tiene 20 intentos para adivinar\n"
     ]
    },
    {
     "name": "stdin",
     "output_type": "stream",
     "text": [
      "jugador2: adivina el numero entre 1 y 1000 ···\n"
     ]
    },
    {
     "name": "stdout",
     "output_type": "stream",
     "text": [
      "opcion no validad\n"
     ]
    },
    {
     "name": "stdin",
     "output_type": "stream",
     "text": [
      "jugador2: adivina el numero entre 1 y 1000 ···\n"
     ]
    },
    {
     "name": "stdout",
     "output_type": "stream",
     "text": [
      "el numero que buscas es mayor\n",
      "sigue intentado, te quedan 19 intentos para adivinar\n"
     ]
    },
    {
     "name": "stdin",
     "output_type": "stream",
     "text": [
      "jugador2: adivina el numero entre 1 y 1000 ···\n"
     ]
    },
    {
     "name": "stdout",
     "output_type": "stream",
     "text": [
      "el numero que buscas es menor que\n",
      "sigue intentado, te quedan 18 intentos para adivinar\n"
     ]
    },
    {
     "name": "stdin",
     "output_type": "stream",
     "text": [
      "jugador2: adivina el numero entre 1 y 1000 ···\n"
     ]
    },
    {
     "name": "stdout",
     "output_type": "stream",
     "text": [
      "el numero que buscas es mayor\n",
      "sigue intentado, te quedan 17 intentos para adivinar\n"
     ]
    },
    {
     "name": "stdin",
     "output_type": "stream",
     "text": [
      "jugador2: adivina el numero entre 1 y 1000 ···\n"
     ]
    },
    {
     "name": "stdout",
     "output_type": "stream",
     "text": [
      "el numero que buscas es menor que\n",
      "sigue intentado, te quedan 16 intentos para adivinar\n"
     ]
    },
    {
     "name": "stdin",
     "output_type": "stream",
     "text": [
      "jugador2: adivina el numero entre 1 y 1000 ···\n"
     ]
    },
    {
     "name": "stdout",
     "output_type": "stream",
     "text": [
      "el numero que buscas es mayor\n",
      "sigue intentado, te quedan 15 intentos para adivinar\n"
     ]
    },
    {
     "name": "stdin",
     "output_type": "stream",
     "text": [
      "jugador2: adivina el numero entre 1 y 1000 ···\n"
     ]
    },
    {
     "name": "stdout",
     "output_type": "stream",
     "text": [
      "el numero que buscas es mayor\n",
      "sigue intentado, te quedan 14 intentos para adivinar\n"
     ]
    },
    {
     "name": "stdin",
     "output_type": "stream",
     "text": [
      "jugador2: adivina el numero entre 1 y 1000 ···\n"
     ]
    },
    {
     "name": "stdout",
     "output_type": "stream",
     "text": [
      "Haz adivinado el numero\n",
      "haz ganado  350 puntos\n"
     ]
    },
    {
     "name": "stdin",
     "output_type": "stream",
     "text": [
      "escribe tu nombre: erick\n"
     ]
    },
    {
     "name": "stdout",
     "output_type": "stream",
     "text": [
      "\n",
      "MENU: \n",
      "selecciona una de las siguientes opciones:\n",
      "\n",
      "1. Partida modo solitario\n",
      "2. Partida 2 Jugadores\n",
      "3. Estadística\n",
      "4. Salir\n"
     ]
    },
    {
     "name": "stdin",
     "output_type": "stream",
     "text": [
      "\n",
      "selecciona una opcion del 1 al 4: 3\n"
     ]
    },
    {
     "name": "stdout",
     "output_type": "stream",
     "text": [
      "\n",
      "Haz seleccionado ver estadisticas del juego\n"
     ]
    },
    {
     "data": {
      "text/html": [
       "<h4>RESULTADOS</h4>"
      ],
      "text/plain": [
       "<IPython.core.display.HTML object>"
      ]
     },
     "metadata": {},
     "output_type": "display_data"
    },
    {
     "data": {
      "text/html": [
       "<div>\n",
       "<style scoped>\n",
       "    .dataframe tbody tr th:only-of-type {\n",
       "        vertical-align: middle;\n",
       "    }\n",
       "\n",
       "    .dataframe tbody tr th {\n",
       "        vertical-align: top;\n",
       "    }\n",
       "\n",
       "    .dataframe thead th {\n",
       "        text-align: right;\n",
       "    }\n",
       "</style>\n",
       "<table border=\"1\" class=\"dataframe\">\n",
       "  <thead>\n",
       "    <tr style=\"text-align: right;\">\n",
       "      <th></th>\n",
       "      <th>NOMBRE DE JUGADOR</th>\n",
       "      <th>MODO DE JUEGO</th>\n",
       "      <th>DIFICULTAD</th>\n",
       "      <th>INTENTOS</th>\n",
       "      <th>RESULTADO</th>\n",
       "      <th>PUNTOS</th>\n",
       "    </tr>\n",
       "  </thead>\n",
       "  <tbody>\n",
       "    <tr>\n",
       "      <th>0</th>\n",
       "      <td>erick</td>\n",
       "      <td>2 personas</td>\n",
       "      <td>Medio</td>\n",
       "      <td>4</td>\n",
       "      <td>ganaste</td>\n",
       "      <td>900</td>\n",
       "    </tr>\n",
       "    <tr>\n",
       "      <th>1</th>\n",
       "      <td>erick</td>\n",
       "      <td>2 personas</td>\n",
       "      <td>Medio</td>\n",
       "      <td>12</td>\n",
       "      <td>perdiste</td>\n",
       "      <td>0</td>\n",
       "    </tr>\n",
       "    <tr>\n",
       "      <th>2</th>\n",
       "      <td>erick</td>\n",
       "      <td>solitario</td>\n",
       "      <td>Facil</td>\n",
       "      <td>7</td>\n",
       "      <td>ganaste</td>\n",
       "      <td>350</td>\n",
       "    </tr>\n",
       "  </tbody>\n",
       "</table>\n",
       "</div>"
      ]
     },
     "metadata": {},
     "output_type": "display_data"
    },
    {
     "data": {
      "text/html": [
       "<h4>ESTADISTICA DE JUGADORES</h4>"
      ],
      "text/plain": [
       "<IPython.core.display.HTML object>"
      ]
     },
     "metadata": {},
     "output_type": "display_data"
    },
    {
     "data": {
      "text/html": [
       "<div>\n",
       "<style scoped>\n",
       "    .dataframe tbody tr th:only-of-type {\n",
       "        vertical-align: middle;\n",
       "    }\n",
       "\n",
       "    .dataframe tbody tr th {\n",
       "        vertical-align: top;\n",
       "    }\n",
       "\n",
       "    .dataframe thead tr th {\n",
       "        text-align: left;\n",
       "    }\n",
       "\n",
       "    .dataframe thead tr:last-of-type th {\n",
       "        text-align: right;\n",
       "    }\n",
       "</style>\n",
       "<table border=\"1\" class=\"dataframe\">\n",
       "  <thead>\n",
       "    <tr>\n",
       "      <th>MODO DE JUEGO</th>\n",
       "      <th>2 personas</th>\n",
       "      <th>solitario</th>\n",
       "    </tr>\n",
       "    <tr>\n",
       "      <th>DIFICULTAD</th>\n",
       "      <th>Medio</th>\n",
       "      <th>Facil</th>\n",
       "    </tr>\n",
       "    <tr>\n",
       "      <th>NOMBRE DE JUGADOR</th>\n",
       "      <th></th>\n",
       "      <th></th>\n",
       "    </tr>\n",
       "  </thead>\n",
       "  <tbody>\n",
       "    <tr>\n",
       "      <th>erick</th>\n",
       "      <td>450</td>\n",
       "      <td>350</td>\n",
       "    </tr>\n",
       "  </tbody>\n",
       "</table>\n",
       "</div>"
      ]
     },
     "metadata": {},
     "output_type": "display_data"
    },
    {
     "data": {
      "image/png": "[encoded data removed]",
      "text/plain": [
       "<Figure size 432x288 with 1 Axes>"
      ]
     },
     "metadata": {
      "needs_background": "light"
     },
     "output_type": "display_data"
    },
    {
     "name": "stdout",
     "output_type": "stream",
     "text": [
      "\n",
      "MENU: \n",
      "selecciona una de las siguientes opciones:\n",
      "\n",
      "1. Partida modo solitario\n",
      "2. Partida 2 Jugadores\n",
      "3. Estadística\n",
      "4. Salir\n"
     ]
    },
    {
     "name": "stdin",
     "output_type": "stream",
     "text": [
      "\n",
      "selecciona una opcion del 1 al 4: 4\n"
     ]
    },
    {
     "name": "stdout",
     "output_type": "stream",
     "text": [
      "\n",
      "Haz seleccionado salir del juego\n",
      "\n",
      "HASTA LA PROXIMA! \n"
     ]
    }
   ],
   "source": [
    "import random\n",
    "import openpyxl\n",
    "import getpass\n",
    "import pandas as pd\n",
    "import matplotlib.pyplot as plt\n",
    "from IPython.display import HTML, display_html, display\n",
    "\n",
    "\n",
    "excel_document=openpyxl.load_workbook(\"C:\\\\ejerciciospython\\\\tarea.xlsx\")##importa el archivo de excel\n",
    "\n",
    "estadis=excel_document['RESULTADOS']#asigan a la variable estadis la hoja libro de excel donde se guardan los resultados\n",
    "\n",
    "def estadistica_de_juego():#esta funcion importa el libro de excel y relaiza la funciones estadistica \n",
    "    excel_document=openpyxl.load_workbook(\"C:\\\\ejerciciospython\\\\tarea.xlsx\")#excel_document=openpyxl.load_workbook(\"C:\\\\Users\\\\erico\\\\OneDrive\\\\Documentos\\master big data data sciene\\python basico\\\\ejercicioprueba.xlsx\")\n",
    "    tabla_de_resultados()#llama la funcion tbala de resultados\n",
    "    celda=estadis[\"A2\"].value\n",
    "    if celda!=None:\n",
    "        grafico_barra()\n",
    "   \n",
    "    \n",
    "    \n",
    "def tabla_de_resultados():#esta funcion lee libro de excel lo convierte en data frame y lo muesta\n",
    "    df=pd.read_excel(\"C:\\\\ejerciciospython\\\\tarea.xlsx\")  \n",
    "    display(HTML('<h4>RESULTADOS</h4>'))#pone el encabezado de RESULTADO  al data frame\n",
    "    display_html(df)#muestra el data frame\n",
    "    \n",
    "    est_prom=df.pivot_table(index=\"NOMBRE DE JUGADOR\",columns=(\"MODO DE JUEGO\",\"DIFICULTAD\"),values='PUNTOS',)#realiza una tabla pivote de acuerdo con el nombre del participante\n",
    "    est_prom.fillna(\"-\",inplace=True)#rellana con - los datos Nan\n",
    "    display(HTML(\"<h4>ESTADISTICA DE JUGADORES</h4>\"))#pone el encabezado de ESTADISTICA DE JUGADORES  al data frame\n",
    "    display_html(est_prom)\n",
    "    \n",
    "    \n",
    "def grafico_barra():#realiza un grafico de barra con el data frame agrupado por nombre de jugadores\n",
    "    df=pd.read_excel(\"C:\\\\ejerciciospython\\\\tarea.xlsx\")\n",
    "    est_prom=df.pivot_table(index=\"NOMBRE DE JUGADOR\",columns=(\"MODO DE JUEGO\",\"DIFICULTAD\"),values='PUNTOS',)\n",
    "    est_prom.fillna(0,inplace=True)#rellena con 0 donde aparace Nan\n",
    "\n",
    "    my_plot = est_prom.plot(kind=\"bar\");\n",
    "    plt.xlabel('NOMBRE DE JUGADOR')#asigna NOMBRE DE JUGADORES al eje x\n",
    "    plt.ylabel('PUNTOS')#asigna el nombre PUNTOS al eje Y\n",
    "    plt.show()#muestra el grafico\n",
    "    \n",
    "def menu(): #la funcion menu(), despliega el menu del juego, pregunta al usuario seleccionar la opcion del juego y retorna la variable seleccion como entero.\n",
    "    print(\"\\nMENU: \\nselecciona una de las siguientes opciones:\")\n",
    "    print(\"\\n1. Partida modo solitario\")#muestra un listado de opciones con print y \n",
    "    print(\"2. Partida 2 Jugadores\")\n",
    "    print(\"3. Estadística\")\n",
    "    print(\"4. Salir\")\n",
    "    seleccion=input (\"\\nselecciona una opcion del 1 al 4:\")#solicita seleccionar una de las opcion entre 1 y 4 y de acuerdo con la opcion seleccionada muestra \n",
    "    \n",
    "    if seleccion ==\"1\":\n",
    "        print(\"\\nHaz seleccionado modo solitario\")        \n",
    "        return(1)#retorna 1 a la funcion menu()\n",
    "        \n",
    "        \n",
    "    if seleccion ==\"2\":\n",
    "        \n",
    "        print(\"\\nHaz seleccionado modo de partida 2 jugadores\")\n",
    "        return (2)#retorna 2 a la funcion menu()\n",
    "    \n",
    "    if seleccion ==\"3\":\n",
    "        print(\"\\nHaz seleccionado ver estadisticas del juego\")\n",
    "        return(3)#retorna 3 a la funcion menu()\n",
    "    \n",
    "    if seleccion ==\"4\":\n",
    "        print(\"\\nHaz seleccionado salir del juego\")\n",
    "        return(4)#retorna 4 a la funcion menu()\n",
    "    \n",
    "    if seleccion!=\"1\"and seleccion!=\"2\"and seleccion!=\"3\"and seleccion!=\"4\":#si la opcion que digita el usuario no esta entre el rango de menu devuelve un numero fuera de rango\n",
    "        return(10)\n",
    "\n",
    "def submenu():#una funcion que despliega las opciones de submenu\n",
    "    print(\"\\nACONTINUACION DEBES SELECCIONAR LA DIFICULTAD DEL JUEGO ESCRIBE UN OPCION ENTRE 1 Y 3\")\n",
    "    print(\"\\n1. Fácil (20 intentos)\")\n",
    "    print(\"2. Medio (12 intentos)\")\n",
    "    print(\"3. Difícil (5 intentos)\")\n",
    "    seleccionsub=input(\"\\nseleccione una dificultad 1 y 3:\") \n",
    "    if seleccionsub ==\"1\":\n",
    "        print(\"\\nHaz seleccionado nivel de dificultadad: Fácil, tiene 20 intentos para adivinar\" )\n",
    "        return(1)\n",
    "    if seleccionsub ==\"2\":\n",
    "        print(\"\\nHaz seleccionado nivel de dificultadad: Media, tiene 12 intentos para adivinar\" )\n",
    "        return(2)\n",
    "    if seleccionsub ==\"3\":\n",
    "        print(\"\\nHaz seleccionado nivel de dificultadad: Dificil, tiene 5 intentos para adivinar\" )\n",
    "        return(3)\n",
    "    if seleccionsub!=\"1\"and seleccionsub!=\"2\"and seleccionsub!=\"3\":\n",
    "        return(10)\n",
    "\n",
    "def adivinar_num(modo,dificultad):#funcion que ejecuta el juego de adivinar el numero,recibe dos parametros modo y dificultad opcione elegidas en menu y submenu\n",
    "    numint=()#variable vacia para ultilizarla mas adelante en el codigo\n",
    "    if modo==1:#compra si modo es 1\n",
    "        numint=random.randint(1,1000)#asigna a numint un dato radom de tipo entero entr 1 y 1000\n",
    "        modo_juego=\"solitario\"#asigna solitario a variable modo de juego\n",
    "        \n",
    "        \n",
    "    \n",
    "    if modo==2:#compara si modo es igual a 2, si es verdadero eejecuta las lineas debajo \n",
    "        modo_juego=\"2 personas\"#asiga a modo de juego 2 personas\n",
    "        numint=(getpass.getpass(\"jugador1: escribe un numero entre 1 y 1000\"))#pide al jugador uno dar un numero \n",
    "        f=numint.isdigit()#verifica si la variable que digita el jugador 1 es un numero\n",
    "        while f==False:\n",
    "                print(\"opcion no valida, numero fuera de rango\")\n",
    "                numint=(getpass.getpass(\"jugador1: escribe un numero entre 1 y 1000\"))##pide el nuemuero adivinar al juegador 1 y oculta el numero \n",
    "                f=numint.isdigit()    \n",
    "        while f==True:#mientras la variable f no sea un numero se pide al jugador digite una opcion entre 1 a 1000\n",
    "            numint=int(numint)\n",
    "        \n",
    "            while numint<1 or numint>1000:#mientras numint este este fuera del rango 1 a 1000 pide al jugador 1 que digite un numero dentro de ese rango\n",
    "                print(\"opcion no valida, numero fuera de rango\")\n",
    "                numint=(getpass.getpass(\"jugador1: escribe un numero entre 1 y 1000\"))##pide el nuemuero adivinar al juegador 1 y oculta el numero \n",
    "                f=numint.isdigit()\n",
    "                while f==False:\n",
    "                    print(\"opcion no valida, numero fuera de rango\")\n",
    "                    numint=(getpass.getpass(\"jugador1: escribe un numero entre 1 y 1000\"))##pide el nuemuero adivinar al juegador 1 y oculta el numero \n",
    "                    f=numint.isdigit()\n",
    "                else:\n",
    "                    numint=int(numint)\n",
    "            else:\n",
    "                numint=int(numint)\n",
    "                f=False\n",
    "        \n",
    "            \n",
    "            \n",
    "  \n",
    "    if dificultad==1:#comprar si la opcion seleccionada en submenu es 1 \n",
    "        num_intentos=20# asiga a la variable num_intentos el valor de 20 \n",
    "        nivel=\"Facil\"#asigna str Facil a la variable nivel\n",
    "        total_puntos=500#varible total puntos es el valor equivalnte maximo puntaje q se puede alcanzar en ese nivel  \n",
    "        punto_intento=25#asigna el valor 25 el valor que se resta en cada intento al puntaje total\n",
    "    \n",
    "    if dificultad==2:\n",
    "        num_intentos=12\n",
    "        nivel=\"Medio\"\n",
    "        total_puntos=1200\n",
    "        punto_intento=100\n",
    "        \n",
    "    if dificultad==3:\n",
    "        num_intentos=5\n",
    "        nivel=\"Dificil\"\n",
    "        total_puntos=2500\n",
    "        punto_intento=500\n",
    "    \n",
    "    i=0#una varible que se utiliza como contador de \n",
    "    a=()#varibele vacia tomara los valores de numero que digite el jugador 2 \n",
    "    intentos=0\n",
    "    if a!=numint:#compara variables si el numero a adivinar e diferente del numero que digite el jugador 2\n",
    "        while i<num_intentos:#mientras sean diferente las varibles el nuemro de inteto sea menor a la cantidad de intentos se ejecutara las lineas de codigo debajo\n",
    "            a=(getpass.getpass(\"jugador2: adivina el numero entre 1 y 1000\"))#pide el nuemuero adivinar al juegador 2 y lo muestra oculto\n",
    "            d=a.isdigit()#guarda dato booleno que representa true si el jugador 2 escribio un numero entero y false si no\n",
    "            \n",
    "            if d==False: \n",
    "                print(\"opcion no validad\")\n",
    "            else:\n",
    "                a=int(a)\n",
    "                if a <1 or a >1000:\n",
    "                    print(\"opcion no validad\")\n",
    "                \n",
    "                if a<numint and 1<=a<=1000:\n",
    "                    print(\"el numero que buscas es mayor\")\n",
    "                    if i<(num_intentos-1):\n",
    "                        print(\"sigue intentado, te quedan\"+\" \"+str((num_intentos-1)-i)+\" \"+\"intentos para adivinar\")\n",
    "                \n",
    "                if a>numint and 1<=a<=1000:\n",
    "                    print(\"el numero que buscas es menor que\")\n",
    "                    if i<(num_intentos-1):\n",
    "                        print(\"sigue intentado, te quedan\"+\" \"+str(num_intentos-1-i)+\" \"+\"intentos para adivinar\")\n",
    "                \n",
    "                if a== numint:\n",
    "                    print(\"Haz adivinado el numero\")\n",
    "                    i= num_intentos\n",
    "                    resultado=\"ganaste\"\n",
    "                    total_puntos=total_puntos-(intentos*punto_intento)\n",
    "                    print(\"haz ganado \"+\" \"+str(total_puntos)+\" \"+\"puntos\")#muestra la cantidad de puntos ganados\n",
    "                i+=1\n",
    "                intentos+=1\n",
    "    if a!=numint and i==num_intentos:#si el numero de intento es igual al numero de intentos total y no se adivino el numero\n",
    "        print(\"se acabaron los intentos, perdiste\")#imprime mensaje de perdio\n",
    "        resultado=\"perdiste\"\n",
    "        total_puntos=0\n",
    "        print(str(total_puntos)+\"puntos\")\n",
    "        print(\"el numero era el \"+str(numint))\n",
    "    nombre_de_jugador2 = input(\"escribe tu nombre:\" )#pide el nombre dle jugador 2 y lo guarda en la varible nombre de jugador 2\n",
    "    \n",
    "    resultados=list[nombre_de_jugador2,modo_juego,nivel,intentos,resultado,total_puntos]#crea un lista con las variables necesarias para relizar las estadisticas dle jeugo   \n",
    "    excel_document=openpyxl.load_workbook(\"C:\\\\ejerciciospython\\\\tarea.xlsx\")#caraga el archivo de excel donde se guardan las estadisticas del jeugo \n",
    "    estadis=excel_document['RESULTADOS']#en libro de excel busca la hoja de resultado y lo almacena en la variable estadis\n",
    "    estadis.append([nombre_de_jugador2,modo_juego,nivel,intentos,resultado,total_puntos])#agrega a la primera entera sin datos  sin datos los valores de la lista resultados \n",
    "    excel_document.save(\"C:\\\\ejerciciospython\\\\tarea.xlsx\")#guarda los cmabio del archivo de excel\n",
    "    \n",
    "\n",
    "                \n",
    "display(HTML(\"<h4>¡ADIVINA EL NUMERO¡</h4>\"))#empiza a el juego muestra el encabezado con el nombre del juego\n",
    "print(\"\\nAdivine el numero en menos intentos gana mas puntos\")\n",
    "                \n",
    "    \n",
    "opcion_menu=menu()#gurada el valor que retorna del la funcion menu()\n",
    "z=1#varible con valor inical de 1 para usarla como condicional\n",
    "while z==1:#comprar que mientras la variable z se igual a uno se ejecuten las lineas debajo\n",
    "    while opcion_menu not in range(0,5,1):#si la varible opcion_menu es diferente al rango de 0 a 5 se ejecuta el codigo debajo \n",
    "        print(\"\\nla opcion seleccionada no es validad, escriba un numero entre 1 y 4\")\n",
    "        opcion_menu=menu()#ejecuta la opcion_menu y le asiga el valor de retorno a la varible opcion_menu()\n",
    "    \n",
    "    while opcion_menu==1 or opcion_menu==2:#si la variable opcion_menu() es igual a submenu se ejecuta el codigo debajo\n",
    "        opcion_submenu=submenu()#ejecuta la funcion submenu() y asigna el valor de retorno de la funcion a la varibaleopcion_submenu \n",
    "        #excel_document.save(\"C:\\\\ejerciciospython\\\\tarea.xlsx\")\n",
    "                            \n",
    "        while opcion_submenu not in range(0,4,1):#si la varible opcion_menu es diferente al rango de 0 a 4 se ejecuta el codigo debajo \n",
    "            print(\"\\nla opcion seleccionada no es validad, escriba un numero entre 1 y 3\")\n",
    "            opcion_submenu=submenu()#ejecuta la funcion_submenu y le asiga el valor de retorno a la varibls opcion_submenu()\n",
    "           \n",
    "        \n",
    "        adivinar_num(opcion_menu,opcion_submenu)#ejecuta la funcion adivinar_num pasandole los valores de la opcion_menu y opcion_submenu\n",
    "        opcion_menu=menu()\n",
    "   \n",
    "    while opcion_menu==3:\n",
    "        estadistica_de_juego()\n",
    "        opcion_menu=menu()\n",
    "\n",
    "        \n",
    "    if  opcion_menu== 4:#si la opcion_menu es 4 se se temrina el jeugo\n",
    "        print(\"\\nHASTA LA PROXIMA! \")\n",
    "        z=0\n"
   ]
  }
 ],
 "metadata": {
  "kernelspec": {
   "display_name": "Python 3 (ipykernel)",
   "language": "python",
   "name": "python3"
  },
  "language_info": {
   "codemirror_mode": {
    "name": "ipython",
    "version": 3
   },
   "file_extension": ".py",
   "mimetype": "text/x-python",
   "name": "python",
   "nbconvert_exporter": "python",
   "pygments_lexer": "ipython3",
   "version": "3.9.7"
  }
 },
 "nbformat": 4,
 "nbformat_minor": 5
}
